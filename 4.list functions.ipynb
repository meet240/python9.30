{
 "cells": [
  {
   "cell_type": "code",
   "execution_count": 1,
   "id": "bf473713",
   "metadata": {},
   "outputs": [],
   "source": [
    "l = []"
   ]
  },
  {
   "cell_type": "code",
   "execution_count": 3,
   "id": "ae05a167",
   "metadata": {},
   "outputs": [
    {
     "name": "stdout",
     "output_type": "stream",
     "text": [
      "['__add__', '__class__', '__class_getitem__', '__contains__', '__delattr__', '__delitem__', '__dir__', '__doc__', '__eq__', '__format__', '__ge__', '__getattribute__', '__getitem__', '__gt__', '__hash__', '__iadd__', '__imul__', '__init__', '__init_subclass__', '__iter__', '__le__', '__len__', '__lt__', '__mul__', '__ne__', '__new__', '__reduce__', '__reduce_ex__', '__repr__', '__reversed__', '__rmul__', '__setattr__', '__setitem__', '__sizeof__', '__str__', '__subclasshook__', 'append', 'clear', 'copy', 'count', 'extend', 'index', 'insert', 'pop', 'remove', 'reverse', 'sort']\n"
     ]
    }
   ],
   "source": [
    "print(dir(l))"
   ]
  },
  {
   "cell_type": "code",
   "execution_count": 4,
   "id": "ece0f4fb",
   "metadata": {},
   "outputs": [],
   "source": [
    "l.append?"
   ]
  },
  {
   "cell_type": "code",
   "execution_count": 5,
   "id": "91f88376",
   "metadata": {},
   "outputs": [],
   "source": [
    "l.append(5)"
   ]
  },
  {
   "cell_type": "code",
   "execution_count": 6,
   "id": "2d8eb362",
   "metadata": {},
   "outputs": [
    {
     "data": {
      "text/plain": [
       "[5]"
      ]
     },
     "execution_count": 6,
     "metadata": {},
     "output_type": "execute_result"
    }
   ],
   "source": [
    "l"
   ]
  },
  {
   "cell_type": "code",
   "execution_count": 7,
   "id": "7524dd90",
   "metadata": {},
   "outputs": [],
   "source": [
    "l.append(10)"
   ]
  },
  {
   "cell_type": "code",
   "execution_count": 8,
   "id": "34924649",
   "metadata": {},
   "outputs": [
    {
     "data": {
      "text/plain": [
       "[5, 10]"
      ]
     },
     "execution_count": 8,
     "metadata": {},
     "output_type": "execute_result"
    }
   ],
   "source": [
    "l"
   ]
  },
  {
   "cell_type": "code",
   "execution_count": 9,
   "id": "544ebf4a",
   "metadata": {},
   "outputs": [],
   "source": [
    "l.append(100)"
   ]
  },
  {
   "cell_type": "code",
   "execution_count": 10,
   "id": "cd83c844",
   "metadata": {},
   "outputs": [],
   "source": [
    "l.append(\"python\")"
   ]
  },
  {
   "cell_type": "code",
   "execution_count": 11,
   "id": "36598ef3",
   "metadata": {},
   "outputs": [],
   "source": [
    "l.append(\"meet\")"
   ]
  },
  {
   "cell_type": "code",
   "execution_count": 12,
   "id": "2c21e35a",
   "metadata": {},
   "outputs": [
    {
     "data": {
      "text/plain": [
       "[5, 10, 100, 'python', 'meet']"
      ]
     },
     "execution_count": 12,
     "metadata": {},
     "output_type": "execute_result"
    }
   ],
   "source": [
    "l"
   ]
  },
  {
   "cell_type": "code",
   "execution_count": 13,
   "id": "1a6597c8",
   "metadata": {},
   "outputs": [],
   "source": [
    "l.append('bye')"
   ]
  },
  {
   "cell_type": "code",
   "execution_count": 14,
   "id": "f7e2d8f6",
   "metadata": {},
   "outputs": [
    {
     "data": {
      "text/plain": [
       "[5, 10, 100, 'python', 'meet', 'bye']"
      ]
     },
     "execution_count": 14,
     "metadata": {},
     "output_type": "execute_result"
    }
   ],
   "source": [
    "l"
   ]
  },
  {
   "cell_type": "code",
   "execution_count": 15,
   "id": "d6cdfe46",
   "metadata": {},
   "outputs": [],
   "source": [
    "l.append([20,30,40])"
   ]
  },
  {
   "cell_type": "code",
   "execution_count": 16,
   "id": "2eeae72d",
   "metadata": {},
   "outputs": [
    {
     "data": {
      "text/plain": [
       "[5, 10, 100, 'python', 'meet', 'bye', [20, 30, 40]]"
      ]
     },
     "execution_count": 16,
     "metadata": {},
     "output_type": "execute_result"
    }
   ],
   "source": [
    "l"
   ]
  },
  {
   "cell_type": "code",
   "execution_count": 17,
   "id": "9c82264e",
   "metadata": {},
   "outputs": [],
   "source": [
    "l1 = [1,2,3,4]"
   ]
  },
  {
   "cell_type": "code",
   "execution_count": 18,
   "id": "7fd9ddfb",
   "metadata": {},
   "outputs": [],
   "source": [
    "l1.append(100)"
   ]
  },
  {
   "cell_type": "code",
   "execution_count": 19,
   "id": "2e4dc09f",
   "metadata": {},
   "outputs": [
    {
     "data": {
      "text/plain": [
       "[1, 2, 3, 4, 100]"
      ]
     },
     "execution_count": 19,
     "metadata": {},
     "output_type": "execute_result"
    }
   ],
   "source": [
    "l1"
   ]
  },
  {
   "cell_type": "code",
   "execution_count": 21,
   "id": "cee35697",
   "metadata": {},
   "outputs": [],
   "source": [
    "l1.append(22)"
   ]
  },
  {
   "cell_type": "code",
   "execution_count": 22,
   "id": "f098fc4f",
   "metadata": {},
   "outputs": [
    {
     "data": {
      "text/plain": [
       "[1, 2, 3, 4, 100, 22]"
      ]
     },
     "execution_count": 22,
     "metadata": {},
     "output_type": "execute_result"
    }
   ],
   "source": [
    "l1"
   ]
  },
  {
   "cell_type": "code",
   "execution_count": 23,
   "id": "0a3c43c0",
   "metadata": {},
   "outputs": [
    {
     "data": {
      "text/plain": [
       "[5, 10, 100, 'python', 'meet', 'bye', [20, 30, 40]]"
      ]
     },
     "execution_count": 23,
     "metadata": {},
     "output_type": "execute_result"
    }
   ],
   "source": [
    "l"
   ]
  },
  {
   "cell_type": "code",
   "execution_count": 24,
   "id": "408285c6",
   "metadata": {},
   "outputs": [
    {
     "data": {
      "text/plain": [
       "[1, 2, 3, 4, 100, 22]"
      ]
     },
     "execution_count": 24,
     "metadata": {},
     "output_type": "execute_result"
    }
   ],
   "source": [
    "l1"
   ]
  },
  {
   "cell_type": "code",
   "execution_count": 26,
   "id": "e4f5aa36",
   "metadata": {},
   "outputs": [],
   "source": [
    "l1.extend([10,44.4,22.2])"
   ]
  },
  {
   "cell_type": "code",
   "execution_count": 27,
   "id": "099ee85a",
   "metadata": {},
   "outputs": [
    {
     "data": {
      "text/plain": [
       "[1, 2, 3, 4, 100, 22, 10, 44.4, 22.2]"
      ]
     },
     "execution_count": 27,
     "metadata": {},
     "output_type": "execute_result"
    }
   ],
   "source": [
    "l1"
   ]
  },
  {
   "cell_type": "code",
   "execution_count": 28,
   "id": "e561ef57",
   "metadata": {},
   "outputs": [
    {
     "data": {
      "text/plain": [
       "[5, 10, 100, 'python', 'meet', 'bye', [20, 30, 40]]"
      ]
     },
     "execution_count": 28,
     "metadata": {},
     "output_type": "execute_result"
    }
   ],
   "source": [
    "l"
   ]
  },
  {
   "cell_type": "code",
   "execution_count": 29,
   "id": "f370b621",
   "metadata": {},
   "outputs": [
    {
     "data": {
      "text/plain": [
       "[1, 2, 3, 4, 100, 22, 10, 44.4, 22.2]"
      ]
     },
     "execution_count": 29,
     "metadata": {},
     "output_type": "execute_result"
    }
   ],
   "source": [
    "l1"
   ]
  },
  {
   "cell_type": "code",
   "execution_count": 30,
   "id": "773d1dc2",
   "metadata": {},
   "outputs": [
    {
     "name": "stdout",
     "output_type": "stream",
     "text": [
      "length of l  7\n",
      "length of l1  9\n"
     ]
    }
   ],
   "source": [
    "print(\"length of l \", len(l))\n",
    "print(\"length of l1 \", len(l1))"
   ]
  },
  {
   "cell_type": "code",
   "execution_count": null,
   "id": "f76dc144",
   "metadata": {},
   "outputs": [],
   "source": []
  },
  {
   "cell_type": "code",
   "execution_count": 38,
   "id": "294a26e0",
   "metadata": {},
   "outputs": [],
   "source": [
    "l2 = [10,20,30,4,5,7,11,22,1,56,4,4,4]"
   ]
  },
  {
   "cell_type": "code",
   "execution_count": 39,
   "id": "652a1013",
   "metadata": {},
   "outputs": [
    {
     "data": {
      "text/plain": [
       "1"
      ]
     },
     "execution_count": 39,
     "metadata": {},
     "output_type": "execute_result"
    }
   ],
   "source": [
    "l2.index(20)"
   ]
  },
  {
   "cell_type": "code",
   "execution_count": 40,
   "id": "d84defe8",
   "metadata": {},
   "outputs": [
    {
     "data": {
      "text/plain": [
       "3"
      ]
     },
     "execution_count": 40,
     "metadata": {},
     "output_type": "execute_result"
    }
   ],
   "source": [
    "l2.index(4)"
   ]
  },
  {
   "cell_type": "code",
   "execution_count": 41,
   "id": "d63b04e9",
   "metadata": {},
   "outputs": [
    {
     "data": {
      "text/plain": [
       "10"
      ]
     },
     "execution_count": 41,
     "metadata": {},
     "output_type": "execute_result"
    }
   ],
   "source": [
    "l2.index(4,4)"
   ]
  },
  {
   "cell_type": "code",
   "execution_count": 43,
   "id": "a95dbed1",
   "metadata": {},
   "outputs": [
    {
     "data": {
      "text/plain": [
       "11"
      ]
     },
     "execution_count": 43,
     "metadata": {},
     "output_type": "execute_result"
    }
   ],
   "source": [
    "l2.index(4,11)"
   ]
  },
  {
   "cell_type": "code",
   "execution_count": 44,
   "id": "5124626d",
   "metadata": {},
   "outputs": [],
   "source": [
    "l3 = [1,2,3,4,1,2,3,4,1,2,3,4]"
   ]
  },
  {
   "cell_type": "code",
   "execution_count": 45,
   "id": "15d04c46",
   "metadata": {},
   "outputs": [
    {
     "data": {
      "text/plain": [
       "4"
      ]
     },
     "execution_count": 45,
     "metadata": {},
     "output_type": "execute_result"
    }
   ],
   "source": [
    "l3.index(1,3)"
   ]
  },
  {
   "cell_type": "code",
   "execution_count": 46,
   "id": "3ce70bd2",
   "metadata": {},
   "outputs": [
    {
     "data": {
      "text/plain": [
       "8"
      ]
     },
     "execution_count": 46,
     "metadata": {},
     "output_type": "execute_result"
    }
   ],
   "source": [
    "l3.index(1,5)"
   ]
  },
  {
   "cell_type": "code",
   "execution_count": 47,
   "id": "e80fedb5",
   "metadata": {},
   "outputs": [
    {
     "data": {
      "text/plain": [
       "0"
      ]
     },
     "execution_count": 47,
     "metadata": {},
     "output_type": "execute_result"
    }
   ],
   "source": [
    "l3.index(1)"
   ]
  },
  {
   "cell_type": "code",
   "execution_count": 48,
   "id": "8758c96a",
   "metadata": {},
   "outputs": [],
   "source": [
    "l3.count?"
   ]
  },
  {
   "cell_type": "code",
   "execution_count": 49,
   "id": "e2ec4a6d",
   "metadata": {},
   "outputs": [
    {
     "data": {
      "text/plain": [
       "[1, 2, 3, 4, 1, 2, 3, 4, 1, 2, 3, 4]"
      ]
     },
     "execution_count": 49,
     "metadata": {},
     "output_type": "execute_result"
    }
   ],
   "source": [
    "l3"
   ]
  },
  {
   "cell_type": "code",
   "execution_count": 50,
   "id": "a2e82e66",
   "metadata": {},
   "outputs": [
    {
     "data": {
      "text/plain": [
       "3"
      ]
     },
     "execution_count": 50,
     "metadata": {},
     "output_type": "execute_result"
    }
   ],
   "source": [
    "l3.count(1)"
   ]
  },
  {
   "cell_type": "code",
   "execution_count": 51,
   "id": "fbd9d744",
   "metadata": {},
   "outputs": [
    {
     "data": {
      "text/plain": [
       "3"
      ]
     },
     "execution_count": 51,
     "metadata": {},
     "output_type": "execute_result"
    }
   ],
   "source": [
    "l3.count(2)"
   ]
  },
  {
   "cell_type": "code",
   "execution_count": 54,
   "id": "3850b3b9",
   "metadata": {},
   "outputs": [],
   "source": [
    "l3.remove?"
   ]
  },
  {
   "cell_type": "code",
   "execution_count": 53,
   "id": "5cafc664",
   "metadata": {},
   "outputs": [
    {
     "data": {
      "text/plain": [
       "[1, 2, 3, 4, 1, 2, 3, 4, 1, 2, 3, 4]"
      ]
     },
     "execution_count": 53,
     "metadata": {},
     "output_type": "execute_result"
    }
   ],
   "source": [
    "l3"
   ]
  },
  {
   "cell_type": "code",
   "execution_count": 55,
   "id": "47cdec81",
   "metadata": {},
   "outputs": [],
   "source": [
    "l3.remove(1)"
   ]
  },
  {
   "cell_type": "code",
   "execution_count": 56,
   "id": "afaf1395",
   "metadata": {},
   "outputs": [
    {
     "data": {
      "text/plain": [
       "[2, 3, 4, 1, 2, 3, 4, 1, 2, 3, 4]"
      ]
     },
     "execution_count": 56,
     "metadata": {},
     "output_type": "execute_result"
    }
   ],
   "source": [
    "l3"
   ]
  },
  {
   "cell_type": "code",
   "execution_count": 58,
   "id": "21e583be",
   "metadata": {},
   "outputs": [],
   "source": [
    "l3.remove(1)"
   ]
  },
  {
   "cell_type": "code",
   "execution_count": 59,
   "id": "c8662e67",
   "metadata": {},
   "outputs": [
    {
     "data": {
      "text/plain": [
       "[2, 3, 4, 2, 3, 4, 1, 2, 3, 4]"
      ]
     },
     "execution_count": 59,
     "metadata": {},
     "output_type": "execute_result"
    }
   ],
   "source": [
    "l3"
   ]
  },
  {
   "cell_type": "code",
   "execution_count": 63,
   "id": "967bd95c",
   "metadata": {},
   "outputs": [],
   "source": [
    "l3.insert?"
   ]
  },
  {
   "cell_type": "code",
   "execution_count": 61,
   "id": "aa07a8c9",
   "metadata": {},
   "outputs": [],
   "source": [
    "l3.insert(4,100)"
   ]
  },
  {
   "cell_type": "code",
   "execution_count": 62,
   "id": "8d807c1c",
   "metadata": {},
   "outputs": [
    {
     "data": {
      "text/plain": [
       "[2, 3, 4, 2, 100, 3, 4, 1, 2, 3, 4]"
      ]
     },
     "execution_count": 62,
     "metadata": {},
     "output_type": "execute_result"
    }
   ],
   "source": [
    "l3"
   ]
  },
  {
   "cell_type": "code",
   "execution_count": 64,
   "id": "c45af600",
   "metadata": {},
   "outputs": [
    {
     "name": "stdout",
     "output_type": "stream",
     "text": [
      "15.5\n"
     ]
    }
   ],
   "source": [
    "l3.insert(2, float(input()))"
   ]
  },
  {
   "cell_type": "code",
   "execution_count": 65,
   "id": "5b58dc3d",
   "metadata": {},
   "outputs": [
    {
     "data": {
      "text/plain": [
       "[2, 3, 15.5, 4, 2, 100, 3, 4, 1, 2, 3, 4]"
      ]
     },
     "execution_count": 65,
     "metadata": {},
     "output_type": "execute_result"
    }
   ],
   "source": [
    "l3"
   ]
  },
  {
   "cell_type": "code",
   "execution_count": null,
   "id": "24c50cf1",
   "metadata": {},
   "outputs": [],
   "source": []
  },
  {
   "cell_type": "code",
   "execution_count": 66,
   "id": "39fdb0a9",
   "metadata": {},
   "outputs": [],
   "source": [
    "l4 = [[],[],[]]"
   ]
  },
  {
   "cell_type": "code",
   "execution_count": 67,
   "id": "545164ca",
   "metadata": {},
   "outputs": [
    {
     "data": {
      "text/plain": [
       "[]"
      ]
     },
     "execution_count": 67,
     "metadata": {},
     "output_type": "execute_result"
    }
   ],
   "source": [
    "l4[0]"
   ]
  },
  {
   "cell_type": "code",
   "execution_count": 68,
   "id": "9341cc46",
   "metadata": {},
   "outputs": [
    {
     "data": {
      "text/plain": [
       "3"
      ]
     },
     "execution_count": 68,
     "metadata": {},
     "output_type": "execute_result"
    }
   ],
   "source": [
    "len(l4)"
   ]
  },
  {
   "cell_type": "code",
   "execution_count": 69,
   "id": "22536069",
   "metadata": {},
   "outputs": [],
   "source": [
    "l4[0].append(10)"
   ]
  },
  {
   "cell_type": "code",
   "execution_count": 70,
   "id": "ba835593",
   "metadata": {},
   "outputs": [
    {
     "data": {
      "text/plain": [
       "[[10], [], []]"
      ]
     },
     "execution_count": 70,
     "metadata": {},
     "output_type": "execute_result"
    }
   ],
   "source": [
    "l4"
   ]
  },
  {
   "cell_type": "code",
   "execution_count": 71,
   "id": "01287207",
   "metadata": {},
   "outputs": [],
   "source": [
    "l4[1].append(100)"
   ]
  },
  {
   "cell_type": "code",
   "execution_count": 72,
   "id": "a638d0b4",
   "metadata": {},
   "outputs": [
    {
     "data": {
      "text/plain": [
       "[[10], [100], []]"
      ]
     },
     "execution_count": 72,
     "metadata": {},
     "output_type": "execute_result"
    }
   ],
   "source": [
    "l4"
   ]
  },
  {
   "cell_type": "code",
   "execution_count": 73,
   "id": "6eafe3ca",
   "metadata": {},
   "outputs": [],
   "source": [
    "l5 = [[],[],[]]"
   ]
  },
  {
   "cell_type": "code",
   "execution_count": 74,
   "id": "21811b82",
   "metadata": {},
   "outputs": [],
   "source": [
    "l5.append(100)"
   ]
  },
  {
   "cell_type": "code",
   "execution_count": 75,
   "id": "50375ef1",
   "metadata": {},
   "outputs": [
    {
     "data": {
      "text/plain": [
       "[[], [], [], 100]"
      ]
     },
     "execution_count": 75,
     "metadata": {},
     "output_type": "execute_result"
    }
   ],
   "source": [
    "l5"
   ]
  },
  {
   "cell_type": "code",
   "execution_count": 76,
   "id": "4c04c744",
   "metadata": {},
   "outputs": [
    {
     "data": {
      "text/plain": [
       "[2, 3, 15.5, 4, 2, 100, 3, 4, 1, 2, 3, 4]"
      ]
     },
     "execution_count": 76,
     "metadata": {},
     "output_type": "execute_result"
    }
   ],
   "source": [
    "l3"
   ]
  },
  {
   "cell_type": "code",
   "execution_count": null,
   "id": "ba078315",
   "metadata": {},
   "outputs": [],
   "source": []
  },
  {
   "cell_type": "markdown",
   "id": "c82690b7",
   "metadata": {},
   "source": [
    "# delete elements from list"
   ]
  },
  {
   "cell_type": "code",
   "execution_count": 77,
   "id": "b7783a0f",
   "metadata": {},
   "outputs": [
    {
     "data": {
      "text/plain": [
       "[2, 3, 15.5, 4, 2, 100, 3, 4, 1, 2, 3, 4]"
      ]
     },
     "execution_count": 77,
     "metadata": {},
     "output_type": "execute_result"
    }
   ],
   "source": [
    "l3"
   ]
  },
  {
   "cell_type": "code",
   "execution_count": 78,
   "id": "bc9a9599",
   "metadata": {},
   "outputs": [],
   "source": [
    "l3.pop?"
   ]
  },
  {
   "cell_type": "code",
   "execution_count": 79,
   "id": "6b7130c4",
   "metadata": {},
   "outputs": [
    {
     "data": {
      "text/plain": [
       "4"
      ]
     },
     "execution_count": 79,
     "metadata": {},
     "output_type": "execute_result"
    }
   ],
   "source": [
    "l3.pop()"
   ]
  },
  {
   "cell_type": "code",
   "execution_count": 80,
   "id": "7f17565a",
   "metadata": {},
   "outputs": [
    {
     "data": {
      "text/plain": [
       "[2, 3, 15.5, 4, 2, 100, 3, 4, 1, 2, 3]"
      ]
     },
     "execution_count": 80,
     "metadata": {},
     "output_type": "execute_result"
    }
   ],
   "source": [
    "l3"
   ]
  },
  {
   "cell_type": "code",
   "execution_count": 81,
   "id": "2fe20c26",
   "metadata": {},
   "outputs": [
    {
     "data": {
      "text/plain": [
       "3"
      ]
     },
     "execution_count": 81,
     "metadata": {},
     "output_type": "execute_result"
    }
   ],
   "source": [
    "l3.pop()"
   ]
  },
  {
   "cell_type": "code",
   "execution_count": 82,
   "id": "64372d8f",
   "metadata": {},
   "outputs": [
    {
     "data": {
      "text/plain": [
       "[2, 3, 15.5, 4, 2, 100, 3, 4, 1, 2]"
      ]
     },
     "execution_count": 82,
     "metadata": {},
     "output_type": "execute_result"
    }
   ],
   "source": [
    "l3"
   ]
  },
  {
   "cell_type": "code",
   "execution_count": 83,
   "id": "02fc3356",
   "metadata": {},
   "outputs": [
    {
     "data": {
      "text/plain": [
       "3"
      ]
     },
     "execution_count": 83,
     "metadata": {},
     "output_type": "execute_result"
    }
   ],
   "source": [
    "l3.pop(1)"
   ]
  },
  {
   "cell_type": "code",
   "execution_count": 84,
   "id": "3127f853",
   "metadata": {},
   "outputs": [
    {
     "data": {
      "text/plain": [
       "[2, 15.5, 4, 2, 100, 3, 4, 1, 2]"
      ]
     },
     "execution_count": 84,
     "metadata": {},
     "output_type": "execute_result"
    }
   ],
   "source": [
    "l3"
   ]
  },
  {
   "cell_type": "code",
   "execution_count": 85,
   "id": "900195f6",
   "metadata": {},
   "outputs": [
    {
     "data": {
      "text/plain": [
       "3"
      ]
     },
     "execution_count": 85,
     "metadata": {},
     "output_type": "execute_result"
    }
   ],
   "source": [
    "l3.pop(-4)"
   ]
  },
  {
   "cell_type": "code",
   "execution_count": 86,
   "id": "c8d1aaf0",
   "metadata": {},
   "outputs": [
    {
     "data": {
      "text/plain": [
       "[2, 15.5, 4, 2, 100, 4, 1, 2]"
      ]
     },
     "execution_count": 86,
     "metadata": {},
     "output_type": "execute_result"
    }
   ],
   "source": [
    "l3"
   ]
  },
  {
   "cell_type": "code",
   "execution_count": null,
   "id": "c7e8e138",
   "metadata": {},
   "outputs": [],
   "source": []
  },
  {
   "cell_type": "code",
   "execution_count": 87,
   "id": "5985f835",
   "metadata": {},
   "outputs": [],
   "source": [
    "del(l3[1])"
   ]
  },
  {
   "cell_type": "code",
   "execution_count": 88,
   "id": "f468fcd4",
   "metadata": {},
   "outputs": [
    {
     "data": {
      "text/plain": [
       "[2, 4, 2, 100, 4, 1, 2]"
      ]
     },
     "execution_count": 88,
     "metadata": {},
     "output_type": "execute_result"
    }
   ],
   "source": [
    "l3"
   ]
  },
  {
   "cell_type": "code",
   "execution_count": 89,
   "id": "d8a98860",
   "metadata": {},
   "outputs": [],
   "source": [
    "del(l3[2])"
   ]
  },
  {
   "cell_type": "code",
   "execution_count": 90,
   "id": "4a6bd383",
   "metadata": {},
   "outputs": [
    {
     "data": {
      "text/plain": [
       "[2, 4, 100, 4, 1, 2]"
      ]
     },
     "execution_count": 90,
     "metadata": {},
     "output_type": "execute_result"
    }
   ],
   "source": [
    "l3"
   ]
  },
  {
   "cell_type": "markdown",
   "id": "6ef23171",
   "metadata": {},
   "source": [
    "# reverse "
   ]
  },
  {
   "cell_type": "code",
   "execution_count": 92,
   "id": "e101dfcc",
   "metadata": {},
   "outputs": [],
   "source": [
    "l3.reverse()"
   ]
  },
  {
   "cell_type": "code",
   "execution_count": 93,
   "id": "3cb305f6",
   "metadata": {},
   "outputs": [
    {
     "data": {
      "text/plain": [
       "[2, 1, 4, 100, 4, 2]"
      ]
     },
     "execution_count": 93,
     "metadata": {},
     "output_type": "execute_result"
    }
   ],
   "source": [
    "l3"
   ]
  },
  {
   "cell_type": "code",
   "execution_count": 94,
   "id": "8ba60891",
   "metadata": {},
   "outputs": [
    {
     "data": {
      "text/plain": [
       "[2, 4, 100, 4, 1, 2]"
      ]
     },
     "execution_count": 94,
     "metadata": {},
     "output_type": "execute_result"
    }
   ],
   "source": [
    "l3[::-1]"
   ]
  },
  {
   "cell_type": "code",
   "execution_count": 95,
   "id": "8df084d9",
   "metadata": {},
   "outputs": [
    {
     "data": {
      "text/plain": [
       "[10, 20, 30, 4, 5, 7, 11, 22, 1, 56, 4, 4, 4]"
      ]
     },
     "execution_count": 95,
     "metadata": {},
     "output_type": "execute_result"
    }
   ],
   "source": [
    "l2"
   ]
  },
  {
   "cell_type": "code",
   "execution_count": 96,
   "id": "a74bfc57",
   "metadata": {},
   "outputs": [
    {
     "data": {
      "text/plain": [
       "[4, 4, 1, 11, 5, 30, 10]"
      ]
     },
     "execution_count": 96,
     "metadata": {},
     "output_type": "execute_result"
    }
   ],
   "source": [
    "l2[::-2]"
   ]
  },
  {
   "cell_type": "code",
   "execution_count": 97,
   "id": "04b5c8f3",
   "metadata": {},
   "outputs": [
    {
     "data": {
      "text/plain": [
       "[10, 20, 30, 4, 5, 7, 11, 22, 1, 56, 4, 4, 4]"
      ]
     },
     "execution_count": 97,
     "metadata": {},
     "output_type": "execute_result"
    }
   ],
   "source": [
    "l2"
   ]
  },
  {
   "cell_type": "code",
   "execution_count": 98,
   "id": "c5847f06",
   "metadata": {},
   "outputs": [],
   "source": [
    "l2.sort()"
   ]
  },
  {
   "cell_type": "code",
   "execution_count": 99,
   "id": "870ebd10",
   "metadata": {},
   "outputs": [
    {
     "data": {
      "text/plain": [
       "[1, 4, 4, 4, 4, 5, 7, 10, 11, 20, 22, 30, 56]"
      ]
     },
     "execution_count": 99,
     "metadata": {},
     "output_type": "execute_result"
    }
   ],
   "source": [
    "l2"
   ]
  },
  {
   "cell_type": "code",
   "execution_count": 103,
   "id": "8dd42516",
   "metadata": {},
   "outputs": [],
   "source": [
    "l2.sort(reverse=True)"
   ]
  },
  {
   "cell_type": "code",
   "execution_count": 104,
   "id": "774d2758",
   "metadata": {},
   "outputs": [
    {
     "data": {
      "text/plain": [
       "[56, 30, 22, 20, 11, 10, 7, 5, 4, 4, 4, 4, 1]"
      ]
     },
     "execution_count": 104,
     "metadata": {},
     "output_type": "execute_result"
    }
   ],
   "source": [
    "l2"
   ]
  },
  {
   "cell_type": "markdown",
   "id": "28f600f1",
   "metadata": {},
   "source": [
    "# sort and ord function"
   ]
  },
  {
   "cell_type": "code",
   "execution_count": 115,
   "id": "642022a1",
   "metadata": {},
   "outputs": [],
   "source": [
    "l5 = [\"$\" , \"%\", \"*\" , \"A\" , \"a\" , \"z\", \"Z\" , \"^\" , \"#\" , \"@\" , \"!\"]"
   ]
  },
  {
   "cell_type": "code",
   "execution_count": 116,
   "id": "f927c246",
   "metadata": {},
   "outputs": [
    {
     "name": "stdout",
     "output_type": "stream",
     "text": [
      "original list    ['$', '%', '*', 'A', 'a', 'z', 'Z', '^', '#', '@', '!']\n",
      "sorting list    ['!', '#', '$', '%', '*', '@', 'A', 'Z', '^', 'a', 'z']\n"
     ]
    }
   ],
   "source": [
    "print(\"original list   \",  l5)\n",
    "\n",
    "l5.sort()\n",
    "\n",
    "print(\"sorting list   \",   l5 )"
   ]
  },
  {
   "cell_type": "code",
   "execution_count": 113,
   "id": "436c84ff",
   "metadata": {},
   "outputs": [],
   "source": []
  },
  {
   "cell_type": "code",
   "execution_count": 117,
   "id": "8fd77d4d",
   "metadata": {},
   "outputs": [
    {
     "name": "stdout",
     "output_type": "stream",
     "text": [
      "Help on built-in function ord in module builtins:\n",
      "\n",
      "ord(c, /)\n",
      "    Return the Unicode code point for a one-character string.\n",
      "\n"
     ]
    }
   ],
   "source": [
    "help(ord)"
   ]
  },
  {
   "cell_type": "code",
   "execution_count": 118,
   "id": "65a950c4",
   "metadata": {},
   "outputs": [
    {
     "data": {
      "text/plain": [
       "33"
      ]
     },
     "execution_count": 118,
     "metadata": {},
     "output_type": "execute_result"
    }
   ],
   "source": [
    "ord(\"!\")"
   ]
  },
  {
   "cell_type": "code",
   "execution_count": 119,
   "id": "6267bc95",
   "metadata": {},
   "outputs": [
    {
     "data": {
      "text/plain": [
       "35"
      ]
     },
     "execution_count": 119,
     "metadata": {},
     "output_type": "execute_result"
    }
   ],
   "source": [
    "ord(\"#\")"
   ]
  },
  {
   "cell_type": "code",
   "execution_count": 120,
   "id": "4e217363",
   "metadata": {},
   "outputs": [
    {
     "data": {
      "text/plain": [
       "36"
      ]
     },
     "execution_count": 120,
     "metadata": {},
     "output_type": "execute_result"
    }
   ],
   "source": [
    "ord(\"$\")"
   ]
  },
  {
   "cell_type": "code",
   "execution_count": 121,
   "id": "23460c93",
   "metadata": {},
   "outputs": [
    {
     "data": {
      "text/plain": [
       "38"
      ]
     },
     "execution_count": 121,
     "metadata": {},
     "output_type": "execute_result"
    }
   ],
   "source": [
    "ord(\"&\")"
   ]
  },
  {
   "cell_type": "code",
   "execution_count": 122,
   "id": "9c5971e1",
   "metadata": {},
   "outputs": [
    {
     "data": {
      "text/plain": [
       "65"
      ]
     },
     "execution_count": 122,
     "metadata": {},
     "output_type": "execute_result"
    }
   ],
   "source": [
    "ord(\"A\")"
   ]
  },
  {
   "cell_type": "code",
   "execution_count": 123,
   "id": "94f003f1",
   "metadata": {},
   "outputs": [
    {
     "data": {
      "text/plain": [
       "97"
      ]
     },
     "execution_count": 123,
     "metadata": {},
     "output_type": "execute_result"
    }
   ],
   "source": [
    "ord(\"a\")"
   ]
  },
  {
   "cell_type": "code",
   "execution_count": 125,
   "id": "d7871a6a",
   "metadata": {},
   "outputs": [
    {
     "data": {
      "text/plain": [
       "90"
      ]
     },
     "execution_count": 125,
     "metadata": {},
     "output_type": "execute_result"
    }
   ],
   "source": [
    "ord(\"Z\")"
   ]
  },
  {
   "cell_type": "code",
   "execution_count": 128,
   "id": "f0bd4aa5",
   "metadata": {},
   "outputs": [],
   "source": [
    "l6 = [\"$\" , \"%\",'1','2','3', \"A\" , \"a\" , \"z\", \"Z\" , \"^\" , \"#\" , \"@\" , \"!\",\"python\",\"java\",\"bye\"]"
   ]
  },
  {
   "cell_type": "code",
   "execution_count": 129,
   "id": "eefe73d5",
   "metadata": {},
   "outputs": [],
   "source": [
    "l6.sort()"
   ]
  },
  {
   "cell_type": "code",
   "execution_count": 130,
   "id": "6a6d7e91",
   "metadata": {},
   "outputs": [
    {
     "data": {
      "text/plain": [
       "['!',\n",
       " '#',\n",
       " '$',\n",
       " '%',\n",
       " '1',\n",
       " '2',\n",
       " '3',\n",
       " '@',\n",
       " 'A',\n",
       " 'Z',\n",
       " '^',\n",
       " 'a',\n",
       " 'bye',\n",
       " 'java',\n",
       " 'python',\n",
       " 'z']"
      ]
     },
     "execution_count": 130,
     "metadata": {},
     "output_type": "execute_result"
    }
   ],
   "source": [
    "l6"
   ]
  },
  {
   "cell_type": "code",
   "execution_count": 131,
   "id": "70bacd55",
   "metadata": {},
   "outputs": [
    {
     "data": {
      "text/plain": [
       "49"
      ]
     },
     "execution_count": 131,
     "metadata": {},
     "output_type": "execute_result"
    }
   ],
   "source": [
    "ord(\"1\")"
   ]
  },
  {
   "cell_type": "code",
   "execution_count": 132,
   "id": "4e84af59",
   "metadata": {},
   "outputs": [],
   "source": [
    "l7 = [10, 9,3,5,6,2,1]"
   ]
  },
  {
   "cell_type": "code",
   "execution_count": 133,
   "id": "df4330b8",
   "metadata": {},
   "outputs": [],
   "source": [
    "l7.sort()"
   ]
  },
  {
   "cell_type": "code",
   "execution_count": 134,
   "id": "1d00a07c",
   "metadata": {},
   "outputs": [
    {
     "data": {
      "text/plain": [
       "[1, 2, 3, 5, 6, 9, 10]"
      ]
     },
     "execution_count": 134,
     "metadata": {},
     "output_type": "execute_result"
    }
   ],
   "source": [
    "l7"
   ]
  },
  {
   "cell_type": "code",
   "execution_count": null,
   "id": "a0577834",
   "metadata": {},
   "outputs": [],
   "source": []
  },
  {
   "cell_type": "code",
   "execution_count": 135,
   "id": "13b175e7",
   "metadata": {},
   "outputs": [],
   "source": [
    "l8 = ['python','pv',\"pz\",\"Python\",\"pa\",\"PA\"]"
   ]
  },
  {
   "cell_type": "code",
   "execution_count": 136,
   "id": "33d15576",
   "metadata": {},
   "outputs": [],
   "source": [
    "l8.sort()"
   ]
  },
  {
   "cell_type": "code",
   "execution_count": 137,
   "id": "58a1d663",
   "metadata": {},
   "outputs": [
    {
     "data": {
      "text/plain": [
       "['PA', 'Python', 'pa', 'pv', 'python', 'pz']"
      ]
     },
     "execution_count": 137,
     "metadata": {},
     "output_type": "execute_result"
    }
   ],
   "source": [
    "l8"
   ]
  },
  {
   "cell_type": "code",
   "execution_count": 138,
   "id": "692ea185",
   "metadata": {},
   "outputs": [
    {
     "data": {
      "text/plain": [
       "80"
      ]
     },
     "execution_count": 138,
     "metadata": {},
     "output_type": "execute_result"
    }
   ],
   "source": [
    "ord(\"P\")"
   ]
  },
  {
   "cell_type": "code",
   "execution_count": 139,
   "id": "458eec53",
   "metadata": {},
   "outputs": [
    {
     "data": {
      "text/plain": [
       "112"
      ]
     },
     "execution_count": 139,
     "metadata": {},
     "output_type": "execute_result"
    }
   ],
   "source": [
    "ord(\"p\")"
   ]
  },
  {
   "cell_type": "code",
   "execution_count": null,
   "id": "3fda3769",
   "metadata": {},
   "outputs": [],
   "source": []
  },
  {
   "cell_type": "markdown",
   "id": "cf36f3a4",
   "metadata": {},
   "source": [
    "append  --> add element \n",
    "\n",
    "extend  -->  extend list\n",
    "\n",
    "remove  -->  remove element\n",
    "\n",
    "count   -->  count element\n",
    "\n",
    "index   -->  check indexing\n",
    "\n",
    "pop     -->  remove last element \n",
    "\n",
    "del     -->  delete element\n",
    "\n",
    "sort     --> ascending to descending order\n",
    "\n",
    "ord     -->  check unicode values\n",
    "\n",
    "reverse  --> reverse elements\n",
    "\n",
    "[: : -1 ]\n"
   ]
  },
  {
   "cell_type": "code",
   "execution_count": 141,
   "id": "eb37d39f",
   "metadata": {},
   "outputs": [],
   "source": [
    "l6.copy?"
   ]
  },
  {
   "cell_type": "code",
   "execution_count": 142,
   "id": "447975dc",
   "metadata": {},
   "outputs": [
    {
     "data": {
      "text/plain": [
       "[[10], [100], []]"
      ]
     },
     "execution_count": 142,
     "metadata": {},
     "output_type": "execute_result"
    }
   ],
   "source": [
    "l4"
   ]
  },
  {
   "cell_type": "code",
   "execution_count": 143,
   "id": "4ecc527e",
   "metadata": {},
   "outputs": [
    {
     "data": {
      "text/plain": [
       "['!', '#', '$', '%', '*', '@', 'A', 'Z', '^', 'a', 'z']"
      ]
     },
     "execution_count": 143,
     "metadata": {},
     "output_type": "execute_result"
    }
   ],
   "source": [
    "l5"
   ]
  },
  {
   "cell_type": "code",
   "execution_count": 148,
   "id": "d97ef465",
   "metadata": {},
   "outputs": [],
   "source": [
    "l5.remove?"
   ]
  },
  {
   "cell_type": "code",
   "execution_count": 145,
   "id": "7b693819",
   "metadata": {},
   "outputs": [],
   "source": [
    "l8 = [10,20,3,4,10,2,3,4,10,2,3,4,10,2,3,4]"
   ]
  },
  {
   "cell_type": "code",
   "execution_count": 146,
   "id": "93d28a87",
   "metadata": {},
   "outputs": [],
   "source": [
    "l8.remove(3)"
   ]
  },
  {
   "cell_type": "code",
   "execution_count": 147,
   "id": "91e0b030",
   "metadata": {},
   "outputs": [
    {
     "data": {
      "text/plain": [
       "[10, 20, 4, 10, 2, 3, 4, 10, 2, 3, 4, 10, 2, 3, 4]"
      ]
     },
     "execution_count": 147,
     "metadata": {},
     "output_type": "execute_result"
    }
   ],
   "source": [
    "l8"
   ]
  },
  {
   "cell_type": "code",
   "execution_count": 149,
   "id": "837b259e",
   "metadata": {},
   "outputs": [],
   "source": [
    "l8.remove(3)"
   ]
  },
  {
   "cell_type": "code",
   "execution_count": 150,
   "id": "35612090",
   "metadata": {},
   "outputs": [
    {
     "data": {
      "text/plain": [
       "[10, 20, 4, 10, 2, 4, 10, 2, 3, 4, 10, 2, 3, 4]"
      ]
     },
     "execution_count": 150,
     "metadata": {},
     "output_type": "execute_result"
    }
   ],
   "source": [
    "l8"
   ]
  },
  {
   "cell_type": "code",
   "execution_count": 151,
   "id": "e01ed888",
   "metadata": {},
   "outputs": [
    {
     "data": {
      "text/plain": [
       "2"
      ]
     },
     "execution_count": 151,
     "metadata": {},
     "output_type": "execute_result"
    }
   ],
   "source": [
    "l8[4]"
   ]
  },
  {
   "cell_type": "code",
   "execution_count": 152,
   "id": "c60f1d8d",
   "metadata": {},
   "outputs": [],
   "source": [
    "del(l8[4])"
   ]
  },
  {
   "cell_type": "code",
   "execution_count": 153,
   "id": "a1ff286c",
   "metadata": {},
   "outputs": [
    {
     "data": {
      "text/plain": [
       "[10, 20, 4, 10, 4, 10, 2, 3, 4, 10, 2, 3, 4]"
      ]
     },
     "execution_count": 153,
     "metadata": {},
     "output_type": "execute_result"
    }
   ],
   "source": [
    "l8"
   ]
  },
  {
   "cell_type": "code",
   "execution_count": null,
   "id": "a1179686",
   "metadata": {},
   "outputs": [],
   "source": []
  }
 ],
 "metadata": {
  "kernelspec": {
   "display_name": "Python 3 (ipykernel)",
   "language": "python",
   "name": "python3"
  },
  "language_info": {
   "codemirror_mode": {
    "name": "ipython",
    "version": 3
   },
   "file_extension": ".py",
   "mimetype": "text/x-python",
   "name": "python",
   "nbconvert_exporter": "python",
   "pygments_lexer": "ipython3",
   "version": "3.9.13"
  }
 },
 "nbformat": 4,
 "nbformat_minor": 5
}
